{
 "cells": [
  {
   "cell_type": "markdown",
   "id": "264b189f",
   "metadata": {},
   "source": [
    "# Proxies\n",
    "\n",
    "### Import Libraries"
   ]
  },
  {
   "cell_type": "code",
   "execution_count": 1,
   "id": "4bc8ae53",
   "metadata": {},
   "outputs": [],
   "source": [
    "import requests\n",
    "import re"
   ]
  },
  {
   "cell_type": "code",
   "execution_count": 6,
   "id": "6ac7074e",
   "metadata": {},
   "outputs": [],
   "source": [
    "def get_my_ip(url='http://www.cualesmiip.com/', proxies=None):\n",
    "    try:\n",
    "        r = requests.get(url=url, proxies=proxies)\n",
    "    except Exception as e:\n",
    "        print('Error linking to request', e)\n",
    "        return None\n",
    "    \n",
    "    if r.status_code != 200:\n",
    "        print(\"Status Code:\", r.status_code)\n",
    "        return None\n",
    "    \n",
    "    regex = re.compile(r'(\\d{1,3}\\.\\d{1,3}\\.\\d{1,3}\\.\\d{1,3})')\n",
    "    my_ip = regex.findall(r.text)\n",
    "    return my_ip[0] if my_ip else None"
   ]
  },
  {
   "cell_type": "code",
   "execution_count": 7,
   "id": "9c369b26",
   "metadata": {},
   "outputs": [
    {
     "data": {
      "text/plain": [
       "'092.092.212.137'"
      ]
     },
     "execution_count": 7,
     "metadata": {},
     "output_type": "execute_result"
    }
   ],
   "source": [
    "get_my_ip()"
   ]
  },
  {
   "cell_type": "code",
   "execution_count": 8,
   "id": "5c026b28",
   "metadata": {},
   "outputs": [],
   "source": [
    "proxy_dict = {'http':'http://200.255.122.170:8080',\n",
    "             'https':'https://200.255.122.170:8080'}"
   ]
  },
  {
   "cell_type": "code",
   "execution_count": 9,
   "id": "bacabba3",
   "metadata": {},
   "outputs": [
    {
     "name": "stdout",
     "output_type": "stream",
     "text": [
      "Error linking to request HTTPConnectionPool(host='200.255.122.170', port=8080): Max retries exceeded with url: http://www.cualesmiip.com/ (Caused by ProxyError('Cannot connect to proxy.', NewConnectionError('<urllib3.connection.HTTPConnection object at 0x7f856b1fd430>: Failed to establish a new connection: [Errno 60] Operation timed out')))\n"
     ]
    }
   ],
   "source": [
    "get_my_ip(proxies=proxy_dict)"
   ]
  },
  {
   "cell_type": "code",
   "execution_count": 10,
   "id": "00b43696",
   "metadata": {},
   "outputs": [],
   "source": [
    "socks_proxy_dict = {'http':'socks4://190.226.46.114:4145',\n",
    "                   'https':'socks4://190.226.46.114:4145'}"
   ]
  },
  {
   "cell_type": "code",
   "execution_count": 11,
   "id": "16269405",
   "metadata": {},
   "outputs": [
    {
     "name": "stdout",
     "output_type": "stream",
     "text": [
      "Error linking to request SOCKSHTTPConnectionPool(host='www.cualesmiip.com', port=80): Max retries exceeded with url: / (Caused by NewConnectionError('<urllib3.contrib.socks.SOCKSConnection object at 0x7f856b22f460>: Failed to establish a new connection: [Errno 61] Connection refused'))\n"
     ]
    }
   ],
   "source": [
    "get_my_ip(proxies=socks_proxy_dict)"
   ]
  },
  {
   "cell_type": "code",
   "execution_count": null,
   "id": "d6df18b8",
   "metadata": {},
   "outputs": [],
   "source": []
  }
 ],
 "metadata": {
  "kernelspec": {
   "display_name": "Python 3 (ipykernel)",
   "language": "python",
   "name": "python3"
  },
  "language_info": {
   "codemirror_mode": {
    "name": "ipython",
    "version": 3
   },
   "file_extension": ".py",
   "mimetype": "text/x-python",
   "name": "python",
   "nbconvert_exporter": "python",
   "pygments_lexer": "ipython3",
   "version": "3.9.16"
  }
 },
 "nbformat": 4,
 "nbformat_minor": 5
}
